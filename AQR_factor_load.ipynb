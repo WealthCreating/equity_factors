{
 "cells": [
  {
   "cell_type": "code",
   "execution_count": 15,
   "metadata": {},
   "outputs": [],
   "source": [
    "%matplotlib inline\n",
    "import seaborn as sns\n",
    "import pandas as pd\n",
    "import pylab\n",
    "sns.set(font_scale=3)\n",
    "pylab.rcParams['figure.figsize'] = (24, 18)"
   ]
  },
  {
   "cell_type": "code",
   "execution_count": 23,
   "metadata": {},
   "outputs": [],
   "source": [
    "col=['USA', u'Global',  u'Global Ex USA', u'Europe', u'North America', u'Pacific']\n",
    "\n",
    "data=pd.read_excel('BettingAgainstBeta.xlsx', header=18,index_col=0,parse_dates=[0])[col].dropna(how='all')"
   ]
  },
  {
   "cell_type": "code",
   "execution_count": 28,
   "metadata": {},
   "outputs": [],
   "source": [
    "factors=['BAB Factors','MKT','SMB','HML FF','HML Devil','UMD']\n",
    "col=['USA', u'Global',  u'Global Ex USA', u'Europe', u'North America', u'Pacific']\n",
    "data={}\n",
    "for f in factors:\n",
    "    data[f]=pd.read_excel('BettingAgainstBeta.xlsx', sheet_name=f,header=18,index_col=0,parse_dates=[0])[col].dropna(how='all')"
   ]
  },
  {
   "cell_type": "code",
   "execution_count": null,
   "metadata": {},
   "outputs": [],
   "source": [
    "data['QMJ']=pd.read_excel('QualityMinusJunk.xlsx', sheet_name=f,header=18,index_col=0,parse_dates=[0])[col].dropna(how='all')"
   ]
  },
  {
   "cell_type": "code",
   "execution_count": null,
   "metadata": {},
   "outputs": [],
   "source": [
    "data['QMJ']"
   ]
  },
  {
   "cell_type": "code",
   "execution_count": null,
   "metadata": {},
   "outputs": [],
   "source": []
  }
 ],
 "metadata": {
  "kernelspec": {
   "display_name": "Python 2",
   "language": "python",
   "name": "python2"
  },
  "language_info": {
   "codemirror_mode": {
    "name": "ipython",
    "version": 2
   },
   "file_extension": ".py",
   "mimetype": "text/x-python",
   "name": "python",
   "nbconvert_exporter": "python",
   "pygments_lexer": "ipython2",
   "version": "2.7.12"
  }
 },
 "nbformat": 4,
 "nbformat_minor": 2
}
